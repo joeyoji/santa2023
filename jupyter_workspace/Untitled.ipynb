{
 "cells": [
  {
   "cell_type": "code",
   "execution_count": 223,
   "id": "297f7bef-31e2-4541-9dc9-e41c9413c801",
   "metadata": {},
   "outputs": [],
   "source": [
    "import os\n",
    "from glob import glob\n",
    "from pathlib import Path\n",
    "from tqdm import tqdm\n",
    "import gc\n",
    "import sys\n",
    "import importlib\n",
    "\n",
    "import numpy as np\n",
    "import pandas as pd"
   ]
  },
  {
   "cell_type": "code",
   "execution_count": 224,
   "id": "4d3b9b46-3331-4469-bb64-db3cefae6b44",
   "metadata": {},
   "outputs": [],
   "source": [
    "sys.path.append('../src/')"
   ]
  },
  {
   "cell_type": "code",
   "execution_count": 234,
   "id": "10fb0068",
   "metadata": {},
   "outputs": [
    {
     "data": {
      "text/plain": [
       "<module 'santa23' from '/Users/joeh/Documents/git/santa2023/jupyter_workspace/../src/santa23.py'>"
      ]
     },
     "execution_count": 234,
     "metadata": {},
     "output_type": "execute_result"
    }
   ],
   "source": [
    "import santa23\n",
    "importlib.reload(santa23)\n"
   ]
  },
  {
   "cell_type": "code",
   "execution_count": 235,
   "id": "0d4b6397-ddd4-45d9-82a2-e1c85366dc76",
   "metadata": {},
   "outputs": [],
   "source": [
    "santa23.CFG_INFO_PTH = '../data/puzzle_info.csv'\n",
    "puzzle_info = pd.read_csv('../data/puzzle_info.csv')\n",
    "puzzles = pd.read_csv('../data/puzzles.csv')\n",
    "sample_submission = pd.read_csv('../data/sample_submission.csv')"
   ]
  },
  {
   "cell_type": "code",
   "execution_count": 236,
   "id": "f91cdd2a",
   "metadata": {},
   "outputs": [],
   "source": [
    "for uid, row in puzzles.iterrows():\n",
    "    break"
   ]
  },
  {
   "cell_type": "code",
   "execution_count": 237,
   "id": "a276ffa5",
   "metadata": {},
   "outputs": [],
   "source": [
    "PP = santa23.Permutation(np.random.choice(np.arange(7),size=7,replace=False))"
   ]
  },
  {
   "cell_type": "code",
   "execution_count": 238,
   "id": "02fe2750",
   "metadata": {},
   "outputs": [
    {
     "data": {
      "text/plain": [
       "array([0, 1, 2, 3, 4, 5, 6])"
      ]
     },
     "execution_count": 238,
     "metadata": {},
     "output_type": "execute_result"
    }
   ],
   "source": [
    "((-PP)*PP).perm"
   ]
  },
  {
   "cell_type": "code",
   "execution_count": 240,
   "id": "44ba953d",
   "metadata": {},
   "outputs": [
    {
     "data": {
      "text/plain": [
       "('cube_2/2/2',\n",
       " array(['A', 'A', 'A', 'A', 'B', 'B', 'B', 'B', 'C', 'C', 'C', 'C', 'D',\n",
       "        'D', 'D', 'D', 'E', 'E', 'E', 'E', 'F', 'F', 'F', 'F'], dtype='<U1'),\n",
       " array(['D', 'E', 'D', 'A', 'E', 'B', 'A', 'B', 'C', 'A', 'C', 'A', 'D',\n",
       "        'C', 'D', 'F', 'F', 'F', 'E', 'E', 'B', 'F', 'B', 'C'], dtype='<U1'),\n",
       " 0)"
      ]
     },
     "execution_count": 240,
     "metadata": {},
     "output_type": "execute_result"
    }
   ],
   "source": [
    "a = santa23.Puzzle(row.puzzle_type, row.solution_state, row.initial_state, row.num_wildcards)\n",
    "a.puzzle_type, a.solution_state, a.initial_state, a.num_wildcards"
   ]
  },
  {
   "cell_type": "code",
   "execution_count": 241,
   "id": "d82c00bf",
   "metadata": {},
   "outputs": [
    {
     "name": "stdout",
     "output_type": "stream",
     "text": [
      "CPU times: user 129 µs, sys: 10 µs, total: 139 µs\n",
      "Wall time: 134 µs\n"
     ]
    },
    {
     "data": {
      "text/plain": [
       "<santa23.Puzzle at 0x1135f2f10>"
      ]
     },
     "execution_count": 241,
     "metadata": {},
     "output_type": "execute_result"
    }
   ],
   "source": [
    "%%time\n",
    "a.random_walk(10)"
   ]
  },
  {
   "cell_type": "code",
   "execution_count": 242,
   "id": "dc22559a",
   "metadata": {},
   "outputs": [
    {
     "name": "stdout",
     "output_type": "stream",
     "text": [
      "CPU times: user 14 µs, sys: 1 µs, total: 15 µs\n",
      "Wall time: 16.9 µs\n"
     ]
    },
    {
     "data": {
      "text/plain": [
       "<santa23.Puzzle at 0x1135f2f10>"
      ]
     },
     "execution_count": 242,
     "metadata": {},
     "output_type": "execute_result"
    }
   ],
   "source": [
    "%%time\n",
    "a.reverse_log()"
   ]
  },
  {
   "cell_type": "code",
   "execution_count": null,
   "id": "034fdd2f",
   "metadata": {},
   "outputs": [],
   "source": []
  },
  {
   "cell_type": "code",
   "execution_count": null,
   "id": "b848213c",
   "metadata": {},
   "outputs": [],
   "source": []
  }
 ],
 "metadata": {
  "kernelspec": {
   "display_name": "Python 3 (ipykernel)",
   "language": "python",
   "name": "python3"
  },
  "language_info": {
   "codemirror_mode": {
    "name": "ipython",
    "version": 3
   },
   "file_extension": ".py",
   "mimetype": "text/x-python",
   "name": "python",
   "nbconvert_exporter": "python",
   "pygments_lexer": "ipython3",
   "version": "3.11.6"
  }
 },
 "nbformat": 4,
 "nbformat_minor": 5
}

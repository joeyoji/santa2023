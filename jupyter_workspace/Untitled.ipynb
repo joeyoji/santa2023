{
 "cells": [
  {
   "cell_type": "code",
   "execution_count": 194,
   "id": "297f7bef-31e2-4541-9dc9-e41c9413c801",
   "metadata": {},
   "outputs": [],
   "source": [
    "import os\n",
    "from glob import glob\n",
    "from pathlib import Path\n",
    "from tqdm import tqdm\n",
    "import gc\n",
    "import sys\n",
    "import importlib\n",
    "\n",
    "import numpy as np\n",
    "import pandas as pd"
   ]
  },
  {
   "cell_type": "code",
   "execution_count": 195,
   "id": "4d3b9b46-3331-4469-bb64-db3cefae6b44",
   "metadata": {},
   "outputs": [],
   "source": [
    "sys.path.append('../src/')"
   ]
  },
  {
   "cell_type": "code",
   "execution_count": 212,
   "id": "10fb0068",
   "metadata": {},
   "outputs": [
    {
     "data": {
      "text/plain": [
       "<module 'santa23' from '/Users/joeh/Documents/git/santa2023/jupyter_workspace/../src/santa23.py'>"
      ]
     },
     "execution_count": 212,
     "metadata": {},
     "output_type": "execute_result"
    }
   ],
   "source": [
    "import santa23\n",
    "importlib.reload(santa23)"
   ]
  },
  {
   "cell_type": "code",
   "execution_count": 213,
   "id": "0d4b6397-ddd4-45d9-82a2-e1c85366dc76",
   "metadata": {},
   "outputs": [],
   "source": [
    "info_pth = '../data/puzzle_info.csv'\n",
    "puzzle_info = pd.read_csv('../data/puzzle_info.csv')\n",
    "puzzles = pd.read_csv('../data/puzzles.csv')\n",
    "sample_submission = pd.read_csv('../data/sample_submission.csv')"
   ]
  },
  {
   "cell_type": "code",
   "execution_count": 214,
   "id": "f91cdd2a",
   "metadata": {},
   "outputs": [],
   "source": [
    "for uid, row in puzzles.iterrows():\n",
    "    break"
   ]
  },
  {
   "cell_type": "code",
   "execution_count": 215,
   "id": "a276ffa5",
   "metadata": {},
   "outputs": [],
   "source": [
    "PP = santa23.Permutation(np.random.choice(np.arange(7),size=7,replace=False))"
   ]
  },
  {
   "cell_type": "code",
   "execution_count": 216,
   "id": "02fe2750",
   "metadata": {},
   "outputs": [
    {
     "data": {
      "text/plain": [
       "array([0, 1, 2, 3, 4, 5, 6])"
      ]
     },
     "execution_count": 216,
     "metadata": {},
     "output_type": "execute_result"
    }
   ],
   "source": [
    "((-PP)*PP).perm"
   ]
  },
  {
   "cell_type": "code",
   "execution_count": 217,
   "id": "44ba953d",
   "metadata": {},
   "outputs": [
    {
     "data": {
      "text/plain": [
       "('cube_2/2/2',\n",
       " array(['A', 'A', 'A', 'A', 'B', 'B', 'B', 'B', 'C', 'C', 'C', 'C', 'D',\n",
       "        'D', 'D', 'D', 'E', 'E', 'E', 'E', 'F', 'F', 'F', 'F'], dtype='<U1'),\n",
       " array(['D', 'E', 'D', 'A', 'E', 'B', 'A', 'B', 'C', 'A', 'C', 'A', 'D',\n",
       "        'C', 'D', 'F', 'F', 'F', 'E', 'E', 'B', 'F', 'B', 'C'], dtype='<U1'),\n",
       " 0)"
      ]
     },
     "execution_count": 217,
     "metadata": {},
     "output_type": "execute_result"
    }
   ],
   "source": [
    "a = santa23.Puzzle(row, info_pth)\n",
    "a.puzzle_type, a.solution_state, a.initial_state, a.num_wildcards"
   ]
  },
  {
   "cell_type": "code",
   "execution_count": 218,
   "id": "d82c00bf",
   "metadata": {},
   "outputs": [
    {
     "name": "stdout",
     "output_type": "stream",
     "text": [
      "CPU times: user 111 µs, sys: 8 µs, total: 119 µs\n",
      "Wall time: 116 µs\n"
     ]
    },
    {
     "data": {
      "text/plain": [
       "<santa23.Puzzle at 0x1130b6d50>"
      ]
     },
     "execution_count": 218,
     "metadata": {},
     "output_type": "execute_result"
    }
   ],
   "source": [
    "%%time\n",
    "a.random_walk(10)"
   ]
  },
  {
   "cell_type": "code",
   "execution_count": 219,
   "id": "dc22559a",
   "metadata": {},
   "outputs": [
    {
     "name": "stdout",
     "output_type": "stream",
     "text": [
      "CPU times: user 11 µs, sys: 1e+03 ns, total: 12 µs\n",
      "Wall time: 12.2 µs\n"
     ]
    },
    {
     "data": {
      "text/plain": [
       "<santa23.Puzzle at 0x1130b6d50>"
      ]
     },
     "execution_count": 219,
     "metadata": {},
     "output_type": "execute_result"
    }
   ],
   "source": [
    "%%time\n",
    "a.reverse_log()"
   ]
  },
  {
   "cell_type": "code",
   "execution_count": 222,
   "id": "e49d50b2",
   "metadata": {},
   "outputs": [
    {
     "name": "stdout",
     "output_type": "stream",
     "text": [
      "\u001b[0;31mSignature:\u001b[0m \u001b[0ma\u001b[0m\u001b[0;34m.\u001b[0m\u001b[0mstate_decoder\u001b[0m\u001b[0;34m(\u001b[0m\u001b[0mstate\u001b[0m\u001b[0;34m)\u001b[0m\u001b[0;34m\u001b[0m\u001b[0;34m\u001b[0m\u001b[0m\n",
      "\u001b[0;31mDocstring:\u001b[0m <no docstring>\n",
      "\u001b[0;31mFile:\u001b[0m      ~/Documents/git/santa2023/src/santa23.py\n",
      "\u001b[0;31mType:\u001b[0m      method"
     ]
    }
   ],
   "source": [
    "a.state_decoder?"
   ]
  },
  {
   "cell_type": "code",
   "execution_count": null,
   "id": "034fdd2f",
   "metadata": {},
   "outputs": [],
   "source": []
  }
 ],
 "metadata": {
  "kernelspec": {
   "display_name": "Python 3 (ipykernel)",
   "language": "python",
   "name": "python3"
  },
  "language_info": {
   "codemirror_mode": {
    "name": "ipython",
    "version": 3
   },
   "file_extension": ".py",
   "mimetype": "text/x-python",
   "name": "python",
   "nbconvert_exporter": "python",
   "pygments_lexer": "ipython3",
   "version": "3.11.6"
  }
 },
 "nbformat": 4,
 "nbformat_minor": 5
}

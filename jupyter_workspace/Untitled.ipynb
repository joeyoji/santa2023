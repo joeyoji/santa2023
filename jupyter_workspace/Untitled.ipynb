{
 "cells": [
  {
   "cell_type": "code",
   "execution_count": 4,
   "id": "297f7bef-31e2-4541-9dc9-e41c9413c801",
   "metadata": {},
   "outputs": [],
   "source": [
    "import os\n",
    "from glob import glob\n",
    "from pathlib import Path\n",
    "from tqdm import tqdm\n",
    "import gc\n",
    "import sys\n",
    "import importlib\n",
    "\n",
    "import numpy as np\n",
    "import pandas as pd"
   ]
  },
  {
   "cell_type": "code",
   "execution_count": 5,
   "id": "4d3b9b46-3331-4469-bb64-db3cefae6b44",
   "metadata": {},
   "outputs": [],
   "source": [
    "sys.path.append('../src/')"
   ]
  },
  {
   "cell_type": "code",
   "execution_count": 7,
   "id": "10fb0068",
   "metadata": {},
   "outputs": [
    {
     "data": {
      "text/plain": [
       "<module 'santa23' from '/Users/joeh/Documents/git/santa2023/jupyter_workspace/../src/santa23.py'>"
      ]
     },
     "execution_count": 7,
     "metadata": {},
     "output_type": "execute_result"
    }
   ],
   "source": [
    "import santa23\n",
    "importlib.reload(santa23)"
   ]
  },
  {
   "cell_type": "code",
   "execution_count": 8,
   "id": "0d4b6397-ddd4-45d9-82a2-e1c85366dc76",
   "metadata": {},
   "outputs": [],
   "source": [
    "info_pth = '../data/puzzle_info.csv'\n",
    "puzzle_info = pd.read_csv('../data/puzzle_info.csv')\n",
    "puzzles = pd.read_csv('../data/puzzles.csv')\n",
    "sample_submission = pd.read_csv('../data/sample_submission.csv')"
   ]
  },
  {
   "cell_type": "code",
   "execution_count": 9,
   "id": "f91cdd2a",
   "metadata": {},
   "outputs": [],
   "source": [
    "for uid, row in puzzles.iterrows():\n",
    "    break"
   ]
  },
  {
   "cell_type": "code",
   "execution_count": 10,
   "id": "44ba953d",
   "metadata": {},
   "outputs": [
    {
     "data": {
      "text/plain": [
       "('cube_2/2/2', 'AAAABBBBCCCCDDDDEEEEFFFF', 'DEDAEBABCACADCDFFFEEBFBC', 0)"
      ]
     },
     "execution_count": 10,
     "metadata": {},
     "output_type": "execute_result"
    }
   ],
   "source": [
    "a = santa23.Puzzle(row, info_pth)\n",
    "a.puzzle_type, a.solution_state, a.initial_state, a.num_wildcards"
   ]
  },
  {
   "cell_type": "code",
   "execution_count": 11,
   "id": "6964289c",
   "metadata": {},
   "outputs": [
    {
     "data": {
      "text/plain": [
       "{'f0': <santa23.Permutation at 0x10ddc8b90>,\n",
       " 'f1': <santa23.Permutation at 0x10d6f2610>,\n",
       " 'r0': <santa23.Permutation at 0x10ddb5810>,\n",
       " 'r1': <santa23.Permutation at 0x11da3ac50>,\n",
       " 'd0': <santa23.Permutation at 0x11da388d0>,\n",
       " 'd1': <santa23.Permutation at 0x11da383d0>,\n",
       " '-f0': <santa23.Permutation at 0x11da38b90>,\n",
       " '-f1': <santa23.Permutation at 0x11da3a550>,\n",
       " '-r0': <santa23.Permutation at 0x11da53710>,\n",
       " '-r1': <santa23.Permutation at 0x11da504d0>,\n",
       " '-d0': <santa23.Permutation at 0x11da51690>,\n",
       " '-d1': <santa23.Permutation at 0x11da50e50>}"
      ]
     },
     "execution_count": 11,
     "metadata": {},
     "output_type": "execute_result"
    }
   ],
   "source": [
    "a.allowed_moves"
   ]
  },
  {
   "cell_type": "code",
   "execution_count": null,
   "id": "c2bff79e",
   "metadata": {},
   "outputs": [],
   "source": []
  }
 ],
 "metadata": {
  "kernelspec": {
   "display_name": "Python 3 (ipykernel)",
   "language": "python",
   "name": "python3"
  },
  "language_info": {
   "codemirror_mode": {
    "name": "ipython",
    "version": 3
   },
   "file_extension": ".py",
   "mimetype": "text/x-python",
   "name": "python",
   "nbconvert_exporter": "python",
   "pygments_lexer": "ipython3",
   "version": "3.11.6"
  }
 },
 "nbformat": 4,
 "nbformat_minor": 5
}

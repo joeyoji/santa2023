{
 "cells": [
  {
   "cell_type": "code",
   "execution_count": 223,
   "id": "297f7bef-31e2-4541-9dc9-e41c9413c801",
   "metadata": {},
   "outputs": [],
   "source": [
    "import os\n",
    "from glob import glob\n",
    "from pathlib import Path\n",
    "from tqdm import tqdm\n",
    "import gc\n",
    "import sys\n",
    "import importlib\n",
    "\n",
    "import numpy as np\n",
    "import pandas as pd"
   ]
  },
  {
   "cell_type": "code",
   "execution_count": 224,
   "id": "4d3b9b46-3331-4469-bb64-db3cefae6b44",
   "metadata": {},
   "outputs": [],
   "source": [
    "sys.path.append('../src/')"
   ]
  },
  {
   "cell_type": "code",
   "execution_count": 254,
   "id": "10fb0068",
   "metadata": {},
   "outputs": [
    {
     "data": {
      "text/plain": [
       "<module 'santa23' from '/Users/joeh/Documents/git/santa2023/jupyter_workspace/../src/santa23.py'>"
      ]
     },
     "execution_count": 254,
     "metadata": {},
     "output_type": "execute_result"
    }
   ],
   "source": [
    "import santa23\n",
    "importlib.reload(santa23)\n"
   ]
  },
  {
   "cell_type": "code",
   "execution_count": 255,
   "id": "0d4b6397-ddd4-45d9-82a2-e1c85366dc76",
   "metadata": {},
   "outputs": [],
   "source": [
    "santa23.CFG_INFO_PTH = '../data/puzzle_info.csv'\n",
    "puzzle_info = pd.read_csv('../data/puzzle_info.csv')\n",
    "puzzles = pd.read_csv('../data/puzzles.csv')\n",
    "sample_submission = pd.read_csv('../data/sample_submission.csv')"
   ]
  },
  {
   "cell_type": "code",
   "execution_count": 256,
   "id": "f91cdd2a",
   "metadata": {},
   "outputs": [],
   "source": [
    "for uid, row in puzzles.iterrows():\n",
    "    break"
   ]
  },
  {
   "cell_type": "code",
   "execution_count": 257,
   "id": "a276ffa5",
   "metadata": {},
   "outputs": [],
   "source": [
    "PP = santa23.Permutation(np.random.choice(np.arange(7),size=7,replace=False))"
   ]
  },
  {
   "cell_type": "code",
   "execution_count": 258,
   "id": "02fe2750",
   "metadata": {},
   "outputs": [
    {
     "data": {
      "text/plain": [
       "array([0, 1, 2, 3, 4, 5, 6])"
      ]
     },
     "execution_count": 258,
     "metadata": {},
     "output_type": "execute_result"
    }
   ],
   "source": [
    "((-PP)*PP).perm"
   ]
  },
  {
   "cell_type": "code",
   "execution_count": 259,
   "id": "44ba953d",
   "metadata": {},
   "outputs": [
    {
     "data": {
      "text/plain": [
       "('cube_2/2/2',\n",
       " array(['A', 'A', 'A', 'A', 'B', 'B', 'B', 'B', 'C', 'C', 'C', 'C', 'D',\n",
       "        'D', 'D', 'D', 'E', 'E', 'E', 'E', 'F', 'F', 'F', 'F'], dtype='<U1'),\n",
       " array(['D', 'E', 'D', 'A', 'E', 'B', 'A', 'B', 'C', 'A', 'C', 'A', 'D',\n",
       "        'C', 'D', 'F', 'F', 'F', 'E', 'E', 'B', 'F', 'B', 'C'], dtype='<U1'),\n",
       " 0)"
      ]
     },
     "execution_count": 259,
     "metadata": {},
     "output_type": "execute_result"
    }
   ],
   "source": [
    "a = santa23.Puzzle(row.puzzle_type, row.solution_state, row.initial_state, row.num_wildcards)\n",
    "a.puzzle_type, a.solution_state, a.initial_state, a.num_wildcards"
   ]
  },
  {
   "cell_type": "code",
   "execution_count": 260,
   "id": "d82c00bf",
   "metadata": {},
   "outputs": [
    {
     "name": "stdout",
     "output_type": "stream",
     "text": [
      "CPU times: user 204 µs, sys: 9 µs, total: 213 µs\n",
      "Wall time: 210 µs\n"
     ]
    },
    {
     "data": {
      "text/plain": [
       "<santa23.Puzzle at 0x1121bd4d0>"
      ]
     },
     "execution_count": 260,
     "metadata": {},
     "output_type": "execute_result"
    }
   ],
   "source": [
    "%%time\n",
    "a.random_walk(10)"
   ]
  },
  {
   "cell_type": "code",
   "execution_count": 261,
   "id": "dc22559a",
   "metadata": {},
   "outputs": [
    {
     "name": "stdout",
     "output_type": "stream",
     "text": [
      "CPU times: user 14 µs, sys: 0 ns, total: 14 µs\n",
      "Wall time: 16 µs\n"
     ]
    },
    {
     "data": {
      "text/plain": [
       "<santa23.Puzzle at 0x1121bd4d0>"
      ]
     },
     "execution_count": 261,
     "metadata": {},
     "output_type": "execute_result"
    }
   ],
   "source": [
    "%%time\n",
    "a.reverse_log()"
   ]
  },
  {
   "cell_type": "code",
   "execution_count": 262,
   "id": "034fdd2f",
   "metadata": {},
   "outputs": [
    {
     "data": {
      "text/plain": [
       "<santa23.Puzzle at 0x1121bd4d0>"
      ]
     },
     "execution_count": 262,
     "metadata": {},
     "output_type": "execute_result"
    }
   ],
   "source": [
    "a.march_inplace(10)"
   ]
  },
  {
   "cell_type": "code",
   "execution_count": 264,
   "id": "b848213c",
   "metadata": {},
   "outputs": [
    {
     "data": {
      "text/plain": [
       "[array(['E', 'B', 'A', 'A', 'B', 'C', 'D', 'A', 'D', 'C', 'E', 'E', 'A',\n",
       "        'D', 'B', 'B', 'F', 'E', 'C', 'C', 'F', 'D', 'F', 'F'], dtype='<U1'),\n",
       " 'd0',\n",
       " array(['E', 'B', 'A', 'A', 'B', 'C', 'C', 'C', 'D', 'C', 'D', 'A', 'A',\n",
       "        'D', 'E', 'E', 'F', 'E', 'B', 'B', 'F', 'F', 'F', 'D'], dtype='<U1'),\n",
       " '-f1',\n",
       " array(['C', 'A', 'A', 'A', 'B', 'C', 'C', 'C', 'D', 'D', 'D', 'F', 'E',\n",
       "        'A', 'E', 'D', 'B', 'E', 'E', 'B', 'F', 'F', 'F', 'B'], dtype='<U1'),\n",
       " 'f1',\n",
       " array(['E', 'B', 'A', 'A', 'B', 'C', 'C', 'C', 'D', 'C', 'D', 'A', 'A',\n",
       "        'D', 'E', 'E', 'F', 'E', 'B', 'B', 'F', 'F', 'F', 'D'], dtype='<U1'),\n",
       " 'r1',\n",
       " array(['B', 'B', 'C', 'A', 'F', 'C', 'F', 'C', 'D', 'C', 'D', 'A', 'A',\n",
       "        'A', 'E', 'E', 'E', 'B', 'F', 'B', 'E', 'F', 'D', 'D'], dtype='<U1'),\n",
       " 'f0']"
      ]
     },
     "execution_count": 264,
     "metadata": {},
     "output_type": "execute_result"
    }
   ],
   "source": [
    "a.reverse_log().move_log[:10]"
   ]
  },
  {
   "cell_type": "code",
   "execution_count": null,
   "id": "c86fa0a3",
   "metadata": {},
   "outputs": [],
   "source": []
  }
 ],
 "metadata": {
  "kernelspec": {
   "display_name": "Python 3 (ipykernel)",
   "language": "python",
   "name": "python3"
  },
  "language_info": {
   "codemirror_mode": {
    "name": "ipython",
    "version": 3
   },
   "file_extension": ".py",
   "mimetype": "text/x-python",
   "name": "python",
   "nbconvert_exporter": "python",
   "pygments_lexer": "ipython3",
   "version": "3.11.6"
  }
 },
 "nbformat": 4,
 "nbformat_minor": 5
}
